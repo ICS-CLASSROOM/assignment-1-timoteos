{
 "cells": [
  {
   "cell_type": "markdown",
   "id": "6307d599",
   "metadata": {
    "id": "6307d599"
   },
   "source": [
    "Notes: \n",
    "* Answer each question in a separate Jupynet Notebook Cell\n",
    "* Pleas keep the code in your cells short. \n",
    "  * In notebook programming cells are typicaly short to facilitate reading. \n",
    "  * If well toughout, most answers in this assignment won're require more than 3 or 4 lines of code. \n",
    "* Do no change the list of import, i.e., do not add additional libraries. Those included are the only ones you are allowed to use.\n",
    "* Add your first and Last name below:\n",
    "\n",
    "<Firt Name> <Last Name>\n",
    "    \n"
   ]
  },
  {
   "cell_type": "markdown",
   "id": "lw2q6NeUmDpB",
   "metadata": {
    "id": "lw2q6NeUmDpB"
   },
   "source": [
    "<h1>Timoteo Sumalinog III</h1>\n",
    "<br/> ICS 438 Big Data Analytics\n",
    "<br/> Professor Mahdi Belcaid\n",
    "<br/> September 28 2021"
   ]
  },
  {
   "cell_type": "code",
   "execution_count": 1,
   "id": "a78e91d5",
   "metadata": {
    "id": "a78e91d5"
   },
   "outputs": [],
   "source": [
    "import pandas as pd\n",
    "from itertools import product\n",
    "from collections import Counter\n",
    "from tqdm.notebook import tqdm\n",
    "import random\n",
    "\n",
    "import json\n",
    "import math"
   ]
  },
  {
   "cell_type": "markdown",
   "id": "1258957f",
   "metadata": {
    "id": "1258957f"
   },
   "source": [
    "In this assignment you will be working with Corona Virus (SARS-CoV2) data that was obtained from the [National Center for Biotechnology Information](https://www.ncbi.nlm.nih.gov/). You will need two files. The first (`data/coronavirus_info.csv`) is small and is provided in the GitHub Repo. The second  (`data_report.jsonl`) is larger so you will need to download a compressed version, which you will need to uncompress prior to using. You can downlod the second file here:\n",
    "\n",
    "https://www.dropbox.com/s/qdn67rshygz06ff/data_report.jsonl.gz?dl=0\n",
    "\n",
    "We start by loading `data/coronavirus_info.csv` (Code provided below)"
   ]
  },
  {
   "cell_type": "code",
   "execution_count": 2,
   "id": "b03484ac",
   "metadata": {
    "colab": {
     "base_uri": "https://localhost:8080/",
     "height": 901
    },
    "id": "b03484ac",
    "outputId": "d0ae8d95-09c8-488c-ae0f-0cbd3a3ff847"
   },
   "outputs": [
    {
     "data": {
      "text/html": [
       "<div>\n",
       "<style scoped>\n",
       "    .dataframe tbody tr th:only-of-type {\n",
       "        vertical-align: middle;\n",
       "    }\n",
       "\n",
       "    .dataframe tbody tr th {\n",
       "        vertical-align: top;\n",
       "    }\n",
       "\n",
       "    .dataframe thead th {\n",
       "        text-align: right;\n",
       "    }\n",
       "</style>\n",
       "<table border=\"1\" class=\"dataframe\">\n",
       "  <thead>\n",
       "    <tr style=\"text-align: right;\">\n",
       "      <th></th>\n",
       "      <th>Nucleotide Accession</th>\n",
       "      <th>Species Name</th>\n",
       "      <th>Virus Genus</th>\n",
       "      <th>Virus Family</th>\n",
       "      <th>Isolate Name</th>\n",
       "      <th>Nucleotide Length</th>\n",
       "      <th>Geo Location</th>\n",
       "      <th>Collection Date</th>\n",
       "    </tr>\n",
       "  </thead>\n",
       "  <tbody>\n",
       "    <tr>\n",
       "      <th>0</th>\n",
       "      <td>NC_045512.2</td>\n",
       "      <td>Severe acute respiratory syndrome coronavirus 2</td>\n",
       "      <td>Betacoronavirus</td>\n",
       "      <td>Coronaviridae</td>\n",
       "      <td>Wuhan-Hu-1</td>\n",
       "      <td>29903</td>\n",
       "      <td>Asia; China</td>\n",
       "      <td>2019-12</td>\n",
       "    </tr>\n",
       "    <tr>\n",
       "      <th>1</th>\n",
       "      <td>OK058807.1</td>\n",
       "      <td>Severe acute respiratory syndrome coronavirus 2</td>\n",
       "      <td>Betacoronavirus</td>\n",
       "      <td>Coronaviridae</td>\n",
       "      <td>SARS-CoV-2/human/USA/MA-MASPHL-04825/2021</td>\n",
       "      <td>29801</td>\n",
       "      <td>North America; USA</td>\n",
       "      <td>2021-07-29</td>\n",
       "    </tr>\n",
       "    <tr>\n",
       "      <th>2</th>\n",
       "      <td>OK058777.1</td>\n",
       "      <td>Severe acute respiratory syndrome coronavirus 2</td>\n",
       "      <td>Betacoronavirus</td>\n",
       "      <td>Coronaviridae</td>\n",
       "      <td>SARS-CoV-2/human/USA/MA-MASPHL-04790/2021</td>\n",
       "      <td>29771</td>\n",
       "      <td>North America; USA</td>\n",
       "      <td>2021-08-10</td>\n",
       "    </tr>\n",
       "    <tr>\n",
       "      <th>3</th>\n",
       "      <td>OK058695.1</td>\n",
       "      <td>Severe acute respiratory syndrome coronavirus 2</td>\n",
       "      <td>Betacoronavirus</td>\n",
       "      <td>Coronaviridae</td>\n",
       "      <td>SARS-CoV-2/human/USA/MA-MASPHL-04700/2021</td>\n",
       "      <td>29820</td>\n",
       "      <td>North America; USA</td>\n",
       "      <td>2021-08-15</td>\n",
       "    </tr>\n",
       "    <tr>\n",
       "      <th>4</th>\n",
       "      <td>OK058662.1</td>\n",
       "      <td>Severe acute respiratory syndrome coronavirus 2</td>\n",
       "      <td>Betacoronavirus</td>\n",
       "      <td>Coronaviridae</td>\n",
       "      <td>SARS-CoV-2/human/USA/MA-MASPHL-04651/2021</td>\n",
       "      <td>29798</td>\n",
       "      <td>North America; USA</td>\n",
       "      <td>2021-08-09</td>\n",
       "    </tr>\n",
       "    <tr>\n",
       "      <th>5</th>\n",
       "      <td>OK058592.1</td>\n",
       "      <td>Severe acute respiratory syndrome coronavirus 2</td>\n",
       "      <td>Betacoronavirus</td>\n",
       "      <td>Coronaviridae</td>\n",
       "      <td>SARS-CoV-2/human/USA/MA-MASPHL-04499/2021</td>\n",
       "      <td>29802</td>\n",
       "      <td>North America; USA</td>\n",
       "      <td>2021-07-26</td>\n",
       "    </tr>\n",
       "    <tr>\n",
       "      <th>6</th>\n",
       "      <td>OK056996.1</td>\n",
       "      <td>Severe acute respiratory syndrome coronavirus 2</td>\n",
       "      <td>Betacoronavirus</td>\n",
       "      <td>Coronaviridae</td>\n",
       "      <td>SARS-CoV-2/human/USA/FL-CDC-QDX27934346/2021</td>\n",
       "      <td>29775</td>\n",
       "      <td>North America; USA: Florida</td>\n",
       "      <td>2021-08-18</td>\n",
       "    </tr>\n",
       "    <tr>\n",
       "      <th>7</th>\n",
       "      <td>OK056909.1</td>\n",
       "      <td>Severe acute respiratory syndrome coronavirus 2</td>\n",
       "      <td>Betacoronavirus</td>\n",
       "      <td>Coronaviridae</td>\n",
       "      <td>SARS-CoV-2/human/USA/CA-CDC-QDX27909662/2021</td>\n",
       "      <td>29775</td>\n",
       "      <td>North America; USA: California</td>\n",
       "      <td>2021-08-16</td>\n",
       "    </tr>\n",
       "    <tr>\n",
       "      <th>8</th>\n",
       "      <td>OK056850.1</td>\n",
       "      <td>Severe acute respiratory syndrome coronavirus 2</td>\n",
       "      <td>Betacoronavirus</td>\n",
       "      <td>Coronaviridae</td>\n",
       "      <td>SARS-CoV-2/human/USA/FL-CDC-QDX27934406/2021</td>\n",
       "      <td>29763</td>\n",
       "      <td>North America; USA: Florida</td>\n",
       "      <td>2021-08-18</td>\n",
       "    </tr>\n",
       "    <tr>\n",
       "      <th>9</th>\n",
       "      <td>OK056784.1</td>\n",
       "      <td>Severe acute respiratory syndrome coronavirus 2</td>\n",
       "      <td>Betacoronavirus</td>\n",
       "      <td>Coronaviridae</td>\n",
       "      <td>SARS-CoV-2/human/USA/NY-CDC-QDX28007789/2021</td>\n",
       "      <td>29775</td>\n",
       "      <td>North America; USA: New York</td>\n",
       "      <td>2021-08-21</td>\n",
       "    </tr>\n",
       "  </tbody>\n",
       "</table>\n",
       "</div>"
      ],
      "text/plain": [
       "  Nucleotide Accession                                     Species Name  \\\n",
       "0          NC_045512.2  Severe acute respiratory syndrome coronavirus 2   \n",
       "1           OK058807.1  Severe acute respiratory syndrome coronavirus 2   \n",
       "2           OK058777.1  Severe acute respiratory syndrome coronavirus 2   \n",
       "3           OK058695.1  Severe acute respiratory syndrome coronavirus 2   \n",
       "4           OK058662.1  Severe acute respiratory syndrome coronavirus 2   \n",
       "5           OK058592.1  Severe acute respiratory syndrome coronavirus 2   \n",
       "6           OK056996.1  Severe acute respiratory syndrome coronavirus 2   \n",
       "7           OK056909.1  Severe acute respiratory syndrome coronavirus 2   \n",
       "8           OK056850.1  Severe acute respiratory syndrome coronavirus 2   \n",
       "9           OK056784.1  Severe acute respiratory syndrome coronavirus 2   \n",
       "\n",
       "       Virus Genus   Virus Family  \\\n",
       "0  Betacoronavirus  Coronaviridae   \n",
       "1  Betacoronavirus  Coronaviridae   \n",
       "2  Betacoronavirus  Coronaviridae   \n",
       "3  Betacoronavirus  Coronaviridae   \n",
       "4  Betacoronavirus  Coronaviridae   \n",
       "5  Betacoronavirus  Coronaviridae   \n",
       "6  Betacoronavirus  Coronaviridae   \n",
       "7  Betacoronavirus  Coronaviridae   \n",
       "8  Betacoronavirus  Coronaviridae   \n",
       "9  Betacoronavirus  Coronaviridae   \n",
       "\n",
       "                                   Isolate Name  Nucleotide Length  \\\n",
       "0                                    Wuhan-Hu-1              29903   \n",
       "1     SARS-CoV-2/human/USA/MA-MASPHL-04825/2021              29801   \n",
       "2     SARS-CoV-2/human/USA/MA-MASPHL-04790/2021              29771   \n",
       "3     SARS-CoV-2/human/USA/MA-MASPHL-04700/2021              29820   \n",
       "4     SARS-CoV-2/human/USA/MA-MASPHL-04651/2021              29798   \n",
       "5     SARS-CoV-2/human/USA/MA-MASPHL-04499/2021              29802   \n",
       "6  SARS-CoV-2/human/USA/FL-CDC-QDX27934346/2021              29775   \n",
       "7  SARS-CoV-2/human/USA/CA-CDC-QDX27909662/2021              29775   \n",
       "8  SARS-CoV-2/human/USA/FL-CDC-QDX27934406/2021              29763   \n",
       "9  SARS-CoV-2/human/USA/NY-CDC-QDX28007789/2021              29775   \n",
       "\n",
       "                     Geo Location Collection Date  \n",
       "0                     Asia; China         2019-12  \n",
       "1              North America; USA      2021-07-29  \n",
       "2              North America; USA      2021-08-10  \n",
       "3              North America; USA      2021-08-15  \n",
       "4              North America; USA      2021-08-09  \n",
       "5              North America; USA      2021-07-26  \n",
       "6     North America; USA: Florida      2021-08-18  \n",
       "7  North America; USA: California      2021-08-16  \n",
       "8     North America; USA: Florida      2021-08-18  \n",
       "9    North America; USA: New York      2021-08-21  "
      ]
     },
     "execution_count": 2,
     "metadata": {},
     "output_type": "execute_result"
    }
   ],
   "source": [
    "# CODE PROVIDED -- DO NOT REMOVE\n",
    "table = pd.read_csv(\"data/coronavirus_info.csv\", low_memory=False)\n",
    "table = table.drop([\"US State\", \"Host Name\", \"Host Taxonomy ID\", \"Sequence Type\", \"Species Taxonomy Id\", \"Nuc Completeness\", \"BioProject\", \"BioSample\"], axis=1)\n",
    "\n",
    "missing = table[\"Geo Location\"].isnull()\n",
    "table.loc[missing, \"Geo Location\"] = \"\"\n",
    "\n",
    "\n",
    "table.head(10)"
   ]
  },
  {
   "cell_type": "markdown",
   "id": "693ce7f2",
   "metadata": {
    "id": "693ce7f2"
   },
   "source": [
    "### Q.1\n",
    "\n",
    "* The location of each of the sequences is recorded under the `Geo Location` column.  How many entries are from Asia?\n",
    "  * Note that for some records, the `Geo Location` column is missing\n",
    "  * Display the results using the following format: \n",
    "    Asia: XXXX,\n",
    "    North America': XXXX,\n",
    "    Europe: XXXX,\n",
    "    Oceania: XXXX,\n",
    "    Africa: XXXX,\n",
    "    South America: XXXX \n"
   ]
  },
  {
   "cell_type": "code",
   "execution_count": 3,
   "id": "fedd7a41",
   "metadata": {
    "colab": {
     "base_uri": "https://localhost:8080/"
    },
    "id": "fedd7a41",
    "outputId": "c3b2c27a-b8f3-45ac-9a22-e67d1eb7f2aa"
   },
   "outputs": [
    {
     "name": "stdout",
     "output_type": "stream",
     "text": [
      "\n",
      "  Asia: 3903\n",
      "  North America: 224014\n",
      "  Europe: 189100\n",
      "  Oceania: 10301\n",
      "  Africa: 1405\n",
      "  South America: 534\n",
      "\n"
     ]
    }
   ],
   "source": [
    "# Write your code here\n",
    "asia_entry_count = table[table[\"Geo Location\"].str.contains('Asia')].shape[0]\n",
    "na_entry_count = table[table[\"Geo Location\"].str.contains('North America')].shape[0]\n",
    "eu_entry_count = table[table[\"Geo Location\"].str.contains('Europe')].shape[0]\n",
    "oce_entry_count = table[table[\"Geo Location\"].str.contains('Oceania')].shape[0]\n",
    "africa_entry_count = table[table[\"Geo Location\"].str.contains('Africa')].shape[0]\n",
    "sa__entry_count = table[table[\"Geo Location\"].str.contains('South America')].shape[0]\n",
    "\n",
    "\n",
    "print(\"\"\"\n",
    "  Asia: {}\n",
    "  North America: {}\n",
    "  Europe: {}\n",
    "  Oceania: {}\n",
    "  Africa: {}\n",
    "  South America: {}\n",
    "\"\"\".format(asia_entry_count, na_entry_count, eu_entry_count, oce_entry_count, africa_entry_count, sa__entry_count )) \n"
   ]
  },
  {
   "cell_type": "markdown",
   "id": "4f902c32",
   "metadata": {
    "id": "4f902c32"
   },
   "source": [
    "### Q.2\n",
    "Use the `coronavirus_info.csv` table to count the entries that are from Hawaii. "
   ]
  },
  {
   "cell_type": "code",
   "execution_count": 4,
   "id": "af84040b",
   "metadata": {
    "colab": {
     "base_uri": "https://localhost:8080/"
    },
    "id": "af84040b",
    "outputId": "70327524-5f63-47a8-bfcd-425129f397cd"
   },
   "outputs": [
    {
     "name": "stdout",
     "output_type": "stream",
     "text": [
      "Hawaii: 119\n"
     ]
    }
   ],
   "source": [
    "# Write your code here\n",
    "hawaii_entry_count = table[table['Geo Location'].str.contains(\"Hawaii\")].shape[0]\n",
    "print(\"Hawaii: {}\".format(hawaii_entry_count))"
   ]
  },
  {
   "cell_type": "markdown",
   "id": "10f25278",
   "metadata": {
    "id": "10f25278"
   },
   "source": [
    "### Q.3\n",
    "\n",
    "The file `data_report.jsonl` contains the variants of the virus in the DB. This `json` file is a list of records (one per line) for each one of the genomes in the database. Before we work with the large file, we will experiment with a file containing a single record.\n",
    "\n",
    "The file `single_record.json` contains a single sample record. Use the `JSON library to load the file `single_record.json` into a variable called `sample_vir_record`\n",
    "\n",
    "1. how many first-level keys does this record have?\n",
    "  * Do not count nested keys. Only those at the top level should be counted\n",
    "\n"
   ]
  },
  {
   "cell_type": "code",
   "execution_count": 5,
   "id": "ff53f4d4",
   "metadata": {
    "colab": {
     "base_uri": "https://localhost:8080/"
    },
    "id": "ff53f4d4",
    "outputId": "3de73751-ad2b-449f-d23d-d19610e93f6d"
   },
   "outputs": [
    {
     "name": "stdout",
     "output_type": "stream",
     "text": [
      "This record has 18 first-level keys\n"
     ]
    }
   ],
   "source": [
    "# Write your code here\n",
    "\n",
    "f = open(\"data/single_record.json\") \n",
    "sample_vir_record = json.load(f)\n",
    "\n",
    "first_lvl_keys = len(sample_vir_record.keys())\n",
    "\n",
    "print(\"This record has {} first-level keys\".format(first_lvl_keys))"
   ]
  },
  {
   "cell_type": "markdown",
   "id": "9679620a",
   "metadata": {
    "id": "9679620a"
   },
   "source": [
    "### Q.4\n",
    "\n",
    "Each Covid various in this database is classified according to a system referred to as the Pangolin (Phylogenetic Assignment of Named Global Outbreak LINeages) classification. It is not essential to complete the assignment that you understand this system, but if you're interested in learning more, see:\n",
    "\n",
    "https://cov-lineages.org/resources/pangolin.html\n",
    "\n",
    "The Pangolin classification of this sample record is nested within the `virus` key:\n",
    "```json\n",
    "{ ...\n",
    "  \"virus\": {\n",
    "              ...\n",
    "              \"pangolinClassification\": \n",
    "              ...\n",
    "            }\n",
    "  ... \n",
    "}\n",
    "```\n",
    "Write code to extract the classification of this record. The result should be `B.1.1.214`"
   ]
  },
  {
   "cell_type": "code",
   "execution_count": 6,
   "id": "a0084d08",
   "metadata": {
    "colab": {
     "base_uri": "https://localhost:8080/",
     "height": 35
    },
    "id": "a0084d08",
    "outputId": "0992c9d4-328a-4a74-8be7-aeca10b43d89"
   },
   "outputs": [
    {
     "data": {
      "text/plain": [
       "'B.1.1.214'"
      ]
     },
     "execution_count": 6,
     "metadata": {},
     "output_type": "execute_result"
    }
   ],
   "source": [
    "# Write your code here\n",
    "sample_vir_record['virus']['pangolinClassification']"
   ]
  },
  {
   "cell_type": "markdown",
   "id": "7db4f1ce",
   "metadata": {
    "id": "7db4f1ce"
   },
   "source": [
    "We hear in the news about `Alpha`, `Beta`, `Delta` variants of concern and recently the Mu variant as being of interest. Basedon your answer to `Q.3`, you may have been tempted to infer that this virus is of type `Beta` since the first letter is `B`. In fact, this variant of type `Alpha` and is a variant of concern. Although not relevant to this exercise, the rules for naming new variants and the list of known `SARS-CoV-2` are provided here:\n",
    "\n",
    "https://www.pango.network/how-does-the-system-work/what-are-pango-lineages/\n",
    "\n",
    "https://cov-lineages.org/lineage_list.html\n",
    "\n",
    "\n",
    "The following short video is very helpful for understanding what a variant is, how it arises, how it's named, and why some variants are more concerning than others.\n",
    "\n",
    "https://www.youtube.com/watch?v=B8UEZ9cfgz4"
   ]
  },
  {
   "cell_type": "markdown",
   "id": "47a61d70",
   "metadata": {
    "id": "47a61d70"
   },
   "source": [
    "### Q.5\n",
    "\n",
    "Write Python code that counts all the different kinds of variants in `data_report.jsonl`. \n",
    "Because the file is 7GB, you won't likely be able to load it into your laptop's RAM using Python. I encountered this error when trying to open it on my laptop\n",
    "\n",
    "![](https://www.dropbox.com/s/lieo685pafkgm5e/ram_error.png?dl=1)\n",
    "\n",
    "\n",
    "It would be easy to extract the data from the pangolinClassification field of each `json` record by reading each line (a record) at a time.\n",
    "\n",
    "The list of current variants of concern we are interested in are:\n",
    "      * Alpha (B.1.1.7)\n",
    "      * Beta (B.1.351, B.1.351.2, B.1.351.3)\n",
    "      * Delta (B.1.617.2, AY.1, AY.2, AY.3)\n",
    "      * Gamma (P.1, P.1.1, P.1.2) \n",
    "\n",
    "You should get something similar to what follows:\n",
    "```\n",
    "Alpha: X\n",
    "Beta: X\n",
    "Delta: X\n",
    "Gamma: X\n",
    "```\n",
    "Where `X` represents the counts for relevant variants"
   ]
  },
  {
   "cell_type": "code",
   "execution_count": 7,
   "id": "02544c57",
   "metadata": {
    "colab": {
     "base_uri": "https://localhost:8080/",
     "height": 241
    },
    "id": "02544c57",
    "outputId": "51713666-2cee-4c87-b2c4-900f333fe123"
   },
   "outputs": [
    {
     "name": "stdout",
     "output_type": "stream",
     "text": [
      "\n",
      "Alpha: 178423\n",
      "Beta: 584\n",
      "Delta: 4392\n",
      "Gamma: 6632\n",
      "\n"
     ]
    }
   ],
   "source": [
    "# Write your code here\n",
    "Alpha, Beta, Delta, Gamma = 0, 0, 0, 0\n",
    "#variants = vir_record['virus'].keys\n",
    "variants = {\n",
    "    \"Alpha\": [\"B.1.1.7\"],\n",
    "    \"Beta\": [\"B.1.351\", \"B.1.351.2\", \"B.1.351.3\"],\n",
    "    \"Delta\": [\"B.1.617.2\", \"AY.1\", \"AY.2\", \"AY.3\"],\n",
    "    \"Gamma\": [\"P.1\", \"P.1.1\", \"P.1.2\"]\n",
    "}\n",
    "with open('data/data_report.jsonl') as f:\n",
    "  for record in f:  \n",
    "    record = json.loads(record)\n",
    "    if \"pangolinClassification\" in record['virus'].keys():\n",
    "      pango = record['virus']['pangolinClassification']\n",
    "      if pango in variants[\"Alpha\"]:\n",
    "        Alpha += 1\n",
    "      elif pango in variants[\"Beta\"]:\n",
    "        Beta += 1\n",
    "      elif pango in variants[\"Delta\"]:\n",
    "        Delta += 1\n",
    "      elif pango in variants[\"Gamma\"]:\n",
    "        Gamma += 1\n",
    "print(\"\"\"\n",
    "Alpha: {}\n",
    "Beta: {}\n",
    "Delta: {}\n",
    "Gamma: {}\n",
    "\"\"\".format(Alpha, Beta, Delta, Gamma))\n"
   ]
  },
  {
   "cell_type": "markdown",
   "id": "b18193ad",
   "metadata": {
    "id": "b18193ad"
   },
   "source": [
    "# Find similar viruses.\n",
    "\n",
    "It's often useful to compare viruses to study how similar strains are. While sophisticated algorithms to compare a pair of viruses exist, these are typically computationally intensive and cannot be used to carry out a large number of comparisons. \n",
    "\n",
    "An alternative, albeit less sensitive, approach consists of comparing word counts (called k-mers, where k is the word size) across genomes.  Suppose we have two viruses X and Y, with the following Genomes.\n",
    "```\n",
    "X = \"ACGTAGTGCATGTGTAGCTGTGTAGCTGTAC\"\n",
    "Y = \"ACTAGTGCATGTGTAGCTCTGTAGCTGATAC\"\n",
    "```\n",
    "\n",
    "To compare `X` and `Y`, we first vectorize these genomes by marking the presence of words (k-mers) as a boolean value, 0 if absent and 1 if the word is present. This method assumes that similar genomes will have the same words, which makes sense.\n",
    "\n",
    "This idea, which is referred to as the bag of words model is computationally efficient, making it ideal to vectorize text in big data analytics. Another variant of this model requires replacing the presence and absence by counts for each word.\n",
    "\n",
    "The code below vectorizes an input DNA sequence intro k-mers of size k=2"
   ]
  },
  {
   "cell_type": "code",
   "execution_count": 8,
   "id": "210cc01e",
   "metadata": {
    "id": "210cc01e"
   },
   "outputs": [],
   "source": [
    "# CODE PROVIDED -- DO NOT REMOVE\n",
    "def get_kmer_2(X):\n",
    "    DNA = [\"A\", \"C\", \"G\", \"T\"]\n",
    "    words_size_2 = [\"\".join(dna_prod) for dna_prod in product(DNA, DNA)]\n",
    "    counts = pd.Series([0 for _ in words_size_2], index = words_size_2)\n",
    "    words_in_X = set([X[i:i+2] for i in range(0, len(X)-1)])\n",
    "    counts[list(words_in_X)] = 1\n",
    "    return counts    "
   ]
  },
  {
   "cell_type": "code",
   "execution_count": 9,
   "id": "25362568",
   "metadata": {
    "colab": {
     "base_uri": "https://localhost:8080/"
    },
    "id": "25362568",
    "outputId": "c14b76ce-859f-4e10-8536-1e3a955c7d21"
   },
   "outputs": [
    {
     "data": {
      "text/plain": [
       "AA    0\n",
       "AC    1\n",
       "AG    0\n",
       "AT    0\n",
       "CA    0\n",
       "CC    0\n",
       "CG    1\n",
       "CT    0\n",
       "GA    0\n",
       "GC    0\n",
       "GG    0\n",
       "GT    1\n",
       "TA    0\n",
       "TC    0\n",
       "TG    0\n",
       "TT    0\n",
       "dtype: int64"
      ]
     },
     "execution_count": 9,
     "metadata": {},
     "output_type": "execute_result"
    }
   ],
   "source": [
    "# CODE PROVIDED -- DO NOT REMOVE\n",
    "# X has 3 words of size 2 (AC, CG, GT)\n",
    "X = \"ACGT\"\n",
    "get_kmer_2(\"ACGT\")"
   ]
  },
  {
   "cell_type": "markdown",
   "id": "c9cf6056",
   "metadata": {
    "id": "c9cf6056"
   },
   "source": [
    "The function below takes a dictionary of sequences' counts as a `pandas Series` and prints it using HTML Table, which you might agree is nicer to visualize."
   ]
  },
  {
   "cell_type": "code",
   "execution_count": 10,
   "id": "96eab270",
   "metadata": {
    "id": "96eab270"
   },
   "outputs": [],
   "source": [
    "# CODE PROVIDED -- DO NOT REMOVE\n",
    "def pretty_print_counts(counts_dict):\n",
    "    list_of_count = [data.to_list() for data in counts_dict.values()]\n",
    "    list_of_indices = [x for x in counts_dict.keys()]\n",
    "    list_of_columns = list(counts_dict.values())[0].index.to_list()\n",
    "    df_single_level_cols = pd.DataFrame(list_of_count,\n",
    "                                        index=[x for x in counts_dict.keys()],\n",
    "                                       columns = list_of_columns)    \n",
    "    return df_single_level_cols \n",
    "\n"
   ]
  },
  {
   "cell_type": "code",
   "execution_count": 11,
   "id": "dabf1943",
   "metadata": {
    "colab": {
     "base_uri": "https://localhost:8080/",
     "height": 144
    },
    "id": "dabf1943",
    "outputId": "5096b06c-8272-4e85-a9ce-df61efb04984"
   },
   "outputs": [
    {
     "data": {
      "text/html": [
       "<div>\n",
       "<style scoped>\n",
       "    .dataframe tbody tr th:only-of-type {\n",
       "        vertical-align: middle;\n",
       "    }\n",
       "\n",
       "    .dataframe tbody tr th {\n",
       "        vertical-align: top;\n",
       "    }\n",
       "\n",
       "    .dataframe thead th {\n",
       "        text-align: right;\n",
       "    }\n",
       "</style>\n",
       "<table border=\"1\" class=\"dataframe\">\n",
       "  <thead>\n",
       "    <tr style=\"text-align: right;\">\n",
       "      <th></th>\n",
       "      <th>AA</th>\n",
       "      <th>AC</th>\n",
       "      <th>AG</th>\n",
       "      <th>AT</th>\n",
       "      <th>CA</th>\n",
       "      <th>CC</th>\n",
       "      <th>CG</th>\n",
       "      <th>CT</th>\n",
       "      <th>GA</th>\n",
       "      <th>GC</th>\n",
       "      <th>GG</th>\n",
       "      <th>GT</th>\n",
       "      <th>TA</th>\n",
       "      <th>TC</th>\n",
       "      <th>TG</th>\n",
       "      <th>TT</th>\n",
       "    </tr>\n",
       "  </thead>\n",
       "  <tbody>\n",
       "    <tr>\n",
       "      <th>X</th>\n",
       "      <td>0</td>\n",
       "      <td>1</td>\n",
       "      <td>0</td>\n",
       "      <td>0</td>\n",
       "      <td>0</td>\n",
       "      <td>0</td>\n",
       "      <td>1</td>\n",
       "      <td>0</td>\n",
       "      <td>0</td>\n",
       "      <td>0</td>\n",
       "      <td>0</td>\n",
       "      <td>1</td>\n",
       "      <td>1</td>\n",
       "      <td>0</td>\n",
       "      <td>0</td>\n",
       "      <td>0</td>\n",
       "    </tr>\n",
       "    <tr>\n",
       "      <th>Y</th>\n",
       "      <td>1</td>\n",
       "      <td>1</td>\n",
       "      <td>0</td>\n",
       "      <td>0</td>\n",
       "      <td>1</td>\n",
       "      <td>0</td>\n",
       "      <td>1</td>\n",
       "      <td>0</td>\n",
       "      <td>0</td>\n",
       "      <td>0</td>\n",
       "      <td>0</td>\n",
       "      <td>1</td>\n",
       "      <td>1</td>\n",
       "      <td>0</td>\n",
       "      <td>0</td>\n",
       "      <td>0</td>\n",
       "    </tr>\n",
       "    <tr>\n",
       "      <th>Z</th>\n",
       "      <td>1</td>\n",
       "      <td>1</td>\n",
       "      <td>0</td>\n",
       "      <td>0</td>\n",
       "      <td>1</td>\n",
       "      <td>0</td>\n",
       "      <td>1</td>\n",
       "      <td>0</td>\n",
       "      <td>0</td>\n",
       "      <td>0</td>\n",
       "      <td>0</td>\n",
       "      <td>1</td>\n",
       "      <td>1</td>\n",
       "      <td>0</td>\n",
       "      <td>0</td>\n",
       "      <td>1</td>\n",
       "    </tr>\n",
       "  </tbody>\n",
       "</table>\n",
       "</div>"
      ],
      "text/plain": [
       "   AA  AC  AG  AT  CA  CC  CG  CT  GA  GC  GG  GT  TA  TC  TG  TT\n",
       "X   0   1   0   0   0   0   1   0   0   0   0   1   1   0   0   0\n",
       "Y   1   1   0   0   1   0   1   0   0   0   0   1   1   0   0   0\n",
       "Z   1   1   0   0   1   0   1   0   0   0   0   1   1   0   0   1"
      ]
     },
     "execution_count": 11,
     "metadata": {},
     "output_type": "execute_result"
    }
   ],
   "source": [
    "# CODE PROVIDED -- DO NOT REMOVE\n",
    "\n",
    "X = \"ACGTACGTACGTACGT\"\n",
    "Y = \"ACGTACAAACGTACGT\"\n",
    "Z = \"TTTTACAAACGTTTTT\"\n",
    "\n",
    "counts_dict = {\"X\": get_kmer_2(X), \"Y\": get_kmer_2(Y), \"Z\": get_kmer_2(Z)}\n",
    "pretty_print_counts(counts_dict)\n"
   ]
  },
  {
   "cell_type": "markdown",
   "id": "8f6fad1f",
   "metadata": {
    "id": "8f6fad1f"
   },
   "source": [
    "### Q.6\n",
    "\n",
    "Write a function that computes the Jaccard similarity between two feature vectors, A and B. If you recall, Jaccard similarity is computed as:\n",
    "\n",
    "$$J(A,B) = \\frac{A \\cap B}{A \\cup B}$$\n",
    "\n",
    "In other words, the number of items shared by `A` and `B` over the set of all items in `A` or `B`.\n",
    "\n",
    "For example, for `A= get_kmer_2(X)` and Y = get_kmer_2(B) above,\n",
    "\n",
    "$$\n",
    "J(A,B) = \\frac{4}{6}\n",
    "$$\n",
    "\n",
    "Your function should have the following signature: \n",
    "\n",
    "`jaccard(A, B)`\n",
    "\n",
    "Where `A` and `B` are `pandas Series`\n",
    "\n",
    "\n",
    "Test your function using the code below to make sure it's correct."
   ]
  },
  {
   "cell_type": "code",
   "execution_count": 12,
   "id": "49fd6daf",
   "metadata": {
    "id": "49fd6daf"
   },
   "outputs": [],
   "source": [
    "# Write you code here\n",
    "def jaccard(A, B):\n",
    "  union = sum(A | B)\n",
    "  intersection = sum(A & B)\n",
    "  jaccard = intersection / union\n",
    "  return jaccard"
   ]
  },
  {
   "cell_type": "code",
   "execution_count": 13,
   "id": "f3303fd4",
   "metadata": {
    "id": "f3303fd4"
   },
   "outputs": [],
   "source": [
    "# TEST PROVIDED -- DO NOT REMOVE\n",
    "A = get_kmer_2(X)\n",
    "B = get_kmer_2(Y)\n",
    "assert jaccard(A, B) == 4/6"
   ]
  },
  {
   "cell_type": "markdown",
   "id": "f11b91a0",
   "metadata": {
    "id": "f11b91a0"
   },
   "source": [
    "### Q.7 \n",
    "\n",
    "* Compute the jaccard similarity for the pairs of sequences `(X, Y)`, `(X, Z)`, `(Y, Z)`. \n"
   ]
  },
  {
   "cell_type": "code",
   "execution_count": 14,
   "id": "d4923080",
   "metadata": {
    "colab": {
     "base_uri": "https://localhost:8080/"
    },
    "id": "d4923080",
    "outputId": "bd3b6c6e-1a29-494a-fc1c-76599679da75"
   },
   "outputs": [
    {
     "name": "stdout",
     "output_type": "stream",
     "text": [
      "\n",
      "Jaccard Similarity for the pairs of sequences:\n",
      "\n",
      "(X, Y): 0.6666666666666666\n",
      "(X, Z): 0.5714285714285714\n",
      "(Y, Z): 0.8571428571428571\n",
      "\n"
     ]
    }
   ],
   "source": [
    "# Write you code here\n",
    "\n",
    "X_Y = jaccard(get_kmer_2(X), get_kmer_2(Y))\n",
    "X_Z = jaccard(get_kmer_2(X), get_kmer_2(Z))\n",
    "Y_Z = jaccard(get_kmer_2(Y), get_kmer_2(Z))\n",
    "\n",
    "print(\"\"\"\n",
    "Jaccard Similarity for the pairs of sequences:\n",
    "\n",
    "(X, Y): {}\n",
    "(X, Z): {}\n",
    "(Y, Z): {}\n",
    "\"\"\".format(X_Y, X_Z, Y_Z))"
   ]
  },
  {
   "cell_type": "markdown",
   "id": "c8695957",
   "metadata": {
    "id": "c8695957"
   },
   "source": [
    "### Q.8\n",
    "\n",
    "The vectors representing the presence and absence of words in both `Y` and `Z` are very similar (Jaccard = 0.85), despite major differences at the DNA level between these two sequences. This is because the words are small -- it is as if you were comparing a history book with a book on Python using words of size 2. It's very likely that both books will contain the same words of size 2. Increasing the size of `k` will produce substantial differences. \n",
    "\n",
    "Change the function `get_kmer_2` so that given a sequence `X` and a k-mer size `k`, the function returns a boolean vector of all the words of size `k` in `X`. Cal the function `get_kmer`\n",
    "\n",
    "\n",
    "\n",
    "The following code can be used to generate all DNA words of size `k`\n",
    "```pyton\n",
    "words_size_k = [\"\".join(prod) for prod in product(*([DNA]*k))]\n",
    "```\n",
    "\n",
    "Once done, use the code below to test your function"
   ]
  },
  {
   "cell_type": "code",
   "execution_count": 15,
   "id": "ec8750a0",
   "metadata": {
    "id": "ec8750a0"
   },
   "outputs": [],
   "source": [
    "# Write you code here\n",
    "def get_kmer(X, k):\n",
    "  DNA = list(\"ACGT\")\n",
    "  words_size_k = [\"\".join(prod) for prod in product(*([DNA]*k))]\n",
    "  counts = pd.Series([0 for _ in words_size_k], index=words_size_k)\n",
    "  words_in_X = set([X[i:i+k] for i in range(len(X) - k + 1)])\n",
    "  counts[list(words_in_X)] = 1\n",
    "  return counts"
   ]
  },
  {
   "cell_type": "code",
   "execution_count": 16,
   "id": "072c31fe",
   "metadata": {
    "id": "072c31fe"
   },
   "outputs": [],
   "source": [
    "# TEST PROVIDED -- DO NOT REMOVE\n",
    "X = \"ACGTGATGATTG\"\n",
    "\n",
    "counts = get_kmer(X, k=1)\n",
    "assert counts.tolist() == [1,1,1,1]\n",
    "\n",
    "\n",
    "counts = get_kmer(X, k=3)\n",
    "assert (counts[[\"ACG\", \"CGT\", \"GTG\", \"TGA\", \"GAT\", \"ATG\", \"ATT\", \"TTG\"]] == 1).sum()  == 8\n",
    "assert (counts.drop([\"ACG\", \"CGT\", \"GTG\", \"TGA\", \"GAT\", \"ATG\", \"ATT\", \"TTG\"]) == 0).sum()  == 56\n"
   ]
  },
  {
   "cell_type": "markdown",
   "id": "7a7a056b",
   "metadata": {
    "id": "7a7a056b"
   },
   "source": [
    "### Q.9\n",
    "\n",
    "* Compute the Jaccard similarity for the pairs `(X, Y)`, `(X, Z)`, `(Y, Z)` using `k= 5`\n"
   ]
  },
  {
   "cell_type": "code",
   "execution_count": 17,
   "id": "925d98f5",
   "metadata": {
    "colab": {
     "base_uri": "https://localhost:8080/"
    },
    "id": "925d98f5",
    "outputId": "bbc60022-1b25-49aa-9866-910daf23b895"
   },
   "outputs": [
    {
     "name": "stdout",
     "output_type": "stream",
     "text": [
      "\n",
      "Jaccard Similarity for the pairs using k = 5:\n",
      "\n",
      "(X, Y): 0.0\n",
      "(X, Z): 0.0\n",
      "(Y, Z): 0.29411764705882354\n",
      "\n"
     ]
    }
   ],
   "source": [
    "# Write you code here\n",
    "X_Y = jaccard(get_kmer(X, 5), get_kmer(Y, 5))\n",
    "X_Z = jaccard(get_kmer(X, 5), get_kmer(Z, 5))\n",
    "Y_Z = jaccard(get_kmer(Y, 5), get_kmer(Z, 5))\n",
    "\n",
    "print(\"\"\"\n",
    "Jaccard Similarity for the pairs using k = 5:\n",
    "\n",
    "(X, Y): {}\n",
    "(X, Z): {}\n",
    "(Y, Z): {}\n",
    "\"\"\".format(X_Y, X_Z, Y_Z))"
   ]
  },
  {
   "cell_type": "markdown",
   "id": "841829e0",
   "metadata": {
    "id": "841829e0"
   },
   "source": [
    "The appropriate word size varies with the length of the text, with larger words depicting similarity more accurately. However, large values of `k` are:\n",
    "1. More computationally intensive to compute. With k = 12, there are $4^12 = 16,777,216$ words to compute for each sequence.\n",
    "\n",
    "2. More likely to skew the distance between fairly similar sequences. For example `k=8`, the Jaccard index between `X` and `Y` is `0`, even though `X` and `Y` have only two mismatching characters. While this is an extreme case due to the fact that X and Y are short, the logic applies to longer sequences and larger values of `k`\n",
    "\n",
    "\n",
    "![](https://www.dropbox.com/s/rhw5szbiohsqu7w/mismatches.png?dl=1)\n"
   ]
  },
  {
   "cell_type": "code",
   "execution_count": 18,
   "id": "aa64ea97",
   "metadata": {
    "id": "aa64ea97"
   },
   "outputs": [],
   "source": [
    "# Write you code here\n"
   ]
  },
  {
   "cell_type": "markdown",
   "id": "ca7dd5bc",
   "metadata": {
    "id": "ca7dd5bc"
   },
   "source": [
    "The code I used is provided as a reference below. The code took 7 hours to complete on a single machine and approximately 12 minutes on a larger server with 72 cores and 1TB of RAM. To parallelize the execution, I split the file into files that contain 1000 sequences each and used GNU Parallel to run each file on a single CPU core."
   ]
  },
  {
   "cell_type": "code",
   "execution_count": 19,
   "id": "f943c170",
   "metadata": {
    "id": "f943c170"
   },
   "outputs": [],
   "source": [
    "# CODE PROVIDED FOR ILLUTRATION -- DO NOT REMOVE\n",
    "# RUNNING LOCALLY MAY TAKE A LONG TIME TO COMPLETE\n",
    "\n",
    "# k = 8 \n",
    "# DNA = [\"A\", \"C\", \"G\", \"T\"]\n",
    "# words_size_k = [\"\".join(prod) for prod in product(*([DNA]*k))]\n",
    "\n",
    "    \n",
    "# def get_kmer_mod(X):\n",
    "#     counts = pd.Series([0 for _ in words_size_k], index = words_size_k)\n",
    "#     words_in_X = set([X[i:i+k] for i in range(0, len(X)-k+1)])\n",
    "#     counts[list(words_in_X)] = 1\n",
    "#     return counts   \n",
    "\n",
    "# def replace_bad_nucs(seq):\n",
    "#     for character in ['W', 'K', \"Y\", \"M\", 'H']:\n",
    "#         seq = seq.replace(character, 'A') \n",
    "        \n",
    "#     for character in ['R', 'S', 'D', \"V\", \"B\"]:\n",
    "#         seq = seq.replace(character, 'C') \n",
    "        \n",
    "#     seq = seq.replace(\"N\", '') \n",
    "    \n",
    "#     return seq\n",
    "\n",
    "# all_counts = []\n",
    "# all_names = []\n",
    "# with tqdm(total=1000) as pbar:\n",
    "#     for record in SeqIO.parse(\"myseq0.fa\", 'fasta'):\n",
    "#         all_names.append(record.id)\n",
    "#         seq = replace_bad_nucs(str(record.seq))\n",
    "\n",
    "#         counts = get_kmer_mod(seq)\n",
    "#         all_counts.append(counts)\n",
    "#         pbar.update(1)\n",
    "    \n",
    "# kmer_counts = pd.DataFrame(all_counts, index = all_names)\n",
    "# kmer_counts.head()"
   ]
  },
  {
   "cell_type": "markdown",
   "id": "8cc55a33",
   "metadata": {
    "id": "8cc55a33"
   },
   "source": [
    "### Hashing Sequences\n",
    "\n",
    "We are interested in finding pairs of sequences that are very similar. However, comparing the sequences pairwise is not tractable since it would require carrying out $429282 * (429282 - 1) / 2 = 92_141_303_121$ comparisons.\n",
    "\n",
    "Instead, we will use the hashing-based approach covered in class. Rather than hashing a sequence over all k-mers, we will only compute the hash for a subset of k-mers. we will repeat the operation n times to avoid that similar sequences are assigned to different bins due to a single, rare mismatch.\n",
    "\n",
    "This, as discussed in class, is computationally more efficient compared to computing all pairwise sequences. "
   ]
  },
  {
   "cell_type": "markdown",
   "id": "ab434db6",
   "metadata": {
    "id": "ab434db6"
   },
   "source": [
    "### Q.10 \n",
    "\n",
    "Write a function that takes a `pandas  Series` and a subset of columns and returns the hash computed on the subset of columns. Call this function`hash_on_subset`.\n",
    "\n",
    "As an example, consider all words with a size of 2 as follows \n",
    "\n",
    "|\t|AA\t|AC\t|AG\t|AT\t|CA | CC| CG| CT| GA| GC| GG| GT| TA| TC| TG| TT|\n",
    "|---|---|---|---|---|---|---|---|---|---|---|---|---|---|---|---|---|\n",
    "| A\t|0\t|1\t|0\t|0\t|0\t|0\t|1\t|0\t| 0 |0\t|0\t| 1 |1  |0\t|0\t|0  |\n",
    "\n",
    "```python\n",
    "hash_on_subset(A, [\"AC\", \"CG\", \"CT\", \"GT\", \"TA\"]) \n",
    "```\n",
    "\n",
    "is equivalent to:\n",
    "\n",
    "```python\n",
    "hash((1, 1, 0, 1, 1)) == 5085477689562523216\n",
    "```\n"
   ]
  },
  {
   "cell_type": "code",
   "execution_count": 20,
   "id": "baefa80a",
   "metadata": {
    "id": "baefa80a"
   },
   "outputs": [],
   "source": [
    "# Write you code here\n",
    "def hash_on_subset(X, subset):\n",
    "  return hash(tuple([X[word] for word in subset]))\n"
   ]
  },
  {
   "cell_type": "markdown",
   "id": "982ff5a6",
   "metadata": {
    "id": "982ff5a6"
   },
   "source": [
    "\n",
    "The method `sample` from the random module `m` words from a list\n",
    "\n",
    "For example, running:\n",
    "```python\n",
    "random.sample( [\"A\", \"C\", \"G\", \"T\"], 2 )\n",
    "```\n",
    "returns\n",
    "```\n",
    "['A', 'C']\n",
    "```\n",
    "The returned subset may be different for you.\n",
    "\n",
    "* The code below randomly selects `m=20` k-mers we will use to compare the genomes\n",
    "\n"
   ]
  },
  {
   "cell_type": "code",
   "execution_count": 21,
   "id": "c471e03c",
   "metadata": {
    "id": "c471e03c",
    "outputId": "29783cf8-1c49-4ee7-8da4-6140e550f6d8"
   },
   "outputs": [
    {
     "data": {
      "text/plain": [
       "['A', 'T']"
      ]
     },
     "execution_count": 21,
     "metadata": {},
     "output_type": "execute_result"
    }
   ],
   "source": [
    "random.sample( [\"A\", \"C\", \"G\", \"T\"], 2 )"
   ]
  },
  {
   "cell_type": "code",
   "execution_count": 22,
   "id": "9c6c8245",
   "metadata": {
    "id": "9c6c8245"
   },
   "outputs": [],
   "source": [
    "k=8\n",
    "DNA = [\"A\", \"C\", \"G\", \"T\"]\n",
    "words_size_k = [\"\".join(prod) for prod in product(*([DNA]*k))]\n",
    "\n",
    "m=20\n",
    "subset_kmers = random.sample(words_size_k, m)\n",
    "\n",
    "# subset_kmers"
   ]
  },
  {
   "cell_type": "markdown",
   "id": "cb434317",
   "metadata": {
    "id": "cb434317"
   },
   "source": [
    "### Q.12\n",
    "\n",
    "\n",
    "Apply the function `hash_subset` to all the rows of `all_kmers_df`. The data science (*vectorized*) way to do so is using the `apply` method available on a `pandas DataFrame` instead of using for loops. For example, given a DataFrame `df` such that:\n",
    "\n",
    "```\n",
    "df = pd.DataFrame([[1,2,3], [4,5,6]])\n",
    "\n",
    "```\n",
    "then \n",
    "```\n",
    "df.apply(max, args=[] axis=1)\n",
    "```\n",
    "applies the `max()` function on each row (`axis = 1`). Here, `args` is empty since `max` does not take any additional arguments.\n",
    "\n",
    "The example below shows how to use `apply` when the function requires additional arguments. In this example, we apply a function that sums all the values of a row and adds to the sum an offset (2 by default)\n",
    "\n"
   ]
  },
  {
   "cell_type": "code",
   "execution_count": 23,
   "id": "41b99f78",
   "metadata": {
    "id": "41b99f78",
    "outputId": "e1f85e6d-d41b-4cf3-8811-287f318f3b57"
   },
   "outputs": [
    {
     "name": "stdout",
     "output_type": "stream",
     "text": [
      "The sum of rows + an offset of 5 is:\n",
      "0    11\n",
      "1    20\n",
      "dtype: int64\n",
      "The sum of rows + an offset of 10 is:\n",
      "0    16\n",
      "1    25\n",
      "dtype: int64\n"
     ]
    }
   ],
   "source": [
    "# EXAMPLE CODE PROVIDED -- DO NOT REMOVE\n",
    "def add_val_to_sum(x, offset=2):\n",
    "    return x.sum() + offset\n",
    "    \n",
    "df = pd.DataFrame([[1,2,3], [4,5,6]])\n",
    "\n",
    "print(\"The sum of rows + an offset of 5 is:\")\n",
    "print(df.apply(add_val_to_sum, args=[5], axis=1))\n",
    "\n",
    "print(\"The sum of rows + an offset of 10 is:\")\n",
    "print(df.apply(add_val_to_sum, args=[10], axis=1))\n",
    "   "
   ]
  },
  {
   "cell_type": "code",
   "execution_count": 24,
   "id": "wAbPuaCQ__dO",
   "metadata": {
    "colab": {
     "base_uri": "https://localhost:8080/",
     "height": 555
    },
    "id": "wAbPuaCQ__dO",
    "outputId": "a5477c7a-3816-4129-c356-cbeb72627e90"
   },
   "outputs": [],
   "source": [
    "# Write your code here\n",
    "# all_kmers_df = pd.read_csv('./data/all_kmers_10k.csv', low_memory=False)\n",
    "# all_kmers_df = all_kmers_df.iloc[:, 1:]\n",
    "# all_kmers_df.apply(hash_on_subset, args=[subset_kmers], axis=1)"
   ]
  },
  {
   "cell_type": "markdown",
   "id": "b327b450",
   "metadata": {
    "id": "b327b450"
   },
   "source": [
    "### Q.13\n",
    "\n",
    "\n",
    "Use `apply()` to apply `hash_subset` and compute the hash values for all the rows of `all_kmers_df` over `subset_kmers`\n",
    "\n",
    "* Create a dict by parsing the results to group sequences that yield the same hash under the same bins. Each key in the dict should be a key and each value is a list of sequences that have the same value.\n",
    "\n",
    "For example, in the dictionary below, X and Y have the same hash value (123456) over a given subset of kmers, whereas Z has a different hash over the same subsets.\n",
    "\n",
    "```\n",
    "{\"123456\": [X,Y], \"654321\": [Z]}\n",
    "```\n"
   ]
  },
  {
   "cell_type": "code",
   "execution_count": null,
   "id": "ccc4d9af",
   "metadata": {},
   "outputs": [],
   "source": []
  },
  {
   "cell_type": "code",
   "execution_count": null,
   "id": "a5d55964",
   "metadata": {
    "id": "a5d55964"
   },
   "outputs": [],
   "source": [
    "# Write your code here\n",
    "all_kmers_df = pd.read_csv('./data/all_kmers_10k.csv', low_memory=False)\n",
    "hashed_kmers_df = all_kmers_df.apply(hash_on_subset, args=[subset_kmers], axis=1)\n",
    "\n",
    "dictionary = {}\n",
    "sequence = all_kmers_df[\"Unnamed: 0\"]\n",
    "    \n",
    "for key, value in hashed_kmers_df.items():\n",
    "    try:\n",
    "        dictionary[value].append(sequence[key])\n",
    "    except KeyError:\n",
    "        dictionary[value] = [sequence[key]]\n",
    "print(dictionary)"
   ]
  },
  {
   "cell_type": "markdown",
   "id": "0aff4715",
   "metadata": {
    "id": "0aff4715"
   },
   "source": [
    "### Q. 15\n",
    "\n",
    "Here we use the presence and absence of words, i.e., a vector of booleans, to encode a sequence. The problem with this approach is that it considers the sequences to be identical, even if their word counts differ substantially. For example, given the sequence `X`, `Y` and `Z` as follows\n",
    "```\n",
    "X = ATAGATAGATAGATAGATT\n",
    "Y = ATAGATAGATAGATAGATT\n",
    "Z = ATAGATTTTTTTTTTTTTT\n",
    "```\n",
    "With k =2, all three sequences mach on their vector of word presence/absense."
   ]
  },
  {
   "cell_type": "code",
   "execution_count": 34,
   "id": "9653e701",
   "metadata": {
    "id": "9653e701",
    "outputId": "0e538e81-b160-4a79-bd50-07f2a8b9b099"
   },
   "outputs": [
    {
     "data": {
      "text/html": [
       "<div>\n",
       "<style scoped>\n",
       "    .dataframe tbody tr th:only-of-type {\n",
       "        vertical-align: middle;\n",
       "    }\n",
       "\n",
       "    .dataframe tbody tr th {\n",
       "        vertical-align: top;\n",
       "    }\n",
       "\n",
       "    .dataframe thead th {\n",
       "        text-align: right;\n",
       "    }\n",
       "</style>\n",
       "<table border=\"1\" class=\"dataframe\">\n",
       "  <thead>\n",
       "    <tr style=\"text-align: right;\">\n",
       "      <th></th>\n",
       "      <th>AA</th>\n",
       "      <th>AC</th>\n",
       "      <th>AG</th>\n",
       "      <th>AT</th>\n",
       "      <th>CA</th>\n",
       "      <th>CC</th>\n",
       "      <th>CG</th>\n",
       "      <th>CT</th>\n",
       "      <th>GA</th>\n",
       "      <th>GC</th>\n",
       "      <th>GG</th>\n",
       "      <th>GT</th>\n",
       "      <th>TA</th>\n",
       "      <th>TC</th>\n",
       "      <th>TG</th>\n",
       "      <th>TT</th>\n",
       "    </tr>\n",
       "  </thead>\n",
       "  <tbody>\n",
       "    <tr>\n",
       "      <th>X</th>\n",
       "      <td>0</td>\n",
       "      <td>0</td>\n",
       "      <td>1</td>\n",
       "      <td>1</td>\n",
       "      <td>0</td>\n",
       "      <td>0</td>\n",
       "      <td>0</td>\n",
       "      <td>0</td>\n",
       "      <td>1</td>\n",
       "      <td>0</td>\n",
       "      <td>0</td>\n",
       "      <td>0</td>\n",
       "      <td>1</td>\n",
       "      <td>0</td>\n",
       "      <td>0</td>\n",
       "      <td>1</td>\n",
       "    </tr>\n",
       "    <tr>\n",
       "      <th>Y</th>\n",
       "      <td>0</td>\n",
       "      <td>0</td>\n",
       "      <td>1</td>\n",
       "      <td>1</td>\n",
       "      <td>0</td>\n",
       "      <td>0</td>\n",
       "      <td>0</td>\n",
       "      <td>0</td>\n",
       "      <td>1</td>\n",
       "      <td>0</td>\n",
       "      <td>0</td>\n",
       "      <td>0</td>\n",
       "      <td>1</td>\n",
       "      <td>0</td>\n",
       "      <td>0</td>\n",
       "      <td>1</td>\n",
       "    </tr>\n",
       "    <tr>\n",
       "      <th>Z</th>\n",
       "      <td>0</td>\n",
       "      <td>0</td>\n",
       "      <td>1</td>\n",
       "      <td>1</td>\n",
       "      <td>0</td>\n",
       "      <td>0</td>\n",
       "      <td>0</td>\n",
       "      <td>0</td>\n",
       "      <td>1</td>\n",
       "      <td>0</td>\n",
       "      <td>0</td>\n",
       "      <td>0</td>\n",
       "      <td>1</td>\n",
       "      <td>0</td>\n",
       "      <td>0</td>\n",
       "      <td>1</td>\n",
       "    </tr>\n",
       "  </tbody>\n",
       "</table>\n",
       "</div>"
      ],
      "text/plain": [
       "   AA  AC  AG  AT  CA  CC  CG  CT  GA  GC  GG  GT  TA  TC  TG  TT\n",
       "X   0   0   1   1   0   0   0   0   1   0   0   0   1   0   0   1\n",
       "Y   0   0   1   1   0   0   0   0   1   0   0   0   1   0   0   1\n",
       "Z   0   0   1   1   0   0   0   0   1   0   0   0   1   0   0   1"
      ]
     },
     "execution_count": 34,
     "metadata": {},
     "output_type": "execute_result"
    }
   ],
   "source": [
    "X = \"ATAGATAGATAGATAGATT\"\n",
    "Y = \"ATAGATAGATAGATAGATT\"\n",
    "Z = \"ATAGATTTTTTTTTTTTTT\"\n",
    "\n",
    "counts_dict = {\"X\": get_kmer(X, k=2), \"Y\": get_kmer(Y, k=2), \"Z\": get_kmer(Z, k=2)}\n",
    "pretty_print_counts(counts_dict)"
   ]
  },
  {
   "cell_type": "markdown",
   "id": "cbe44285",
   "metadata": {
    "id": "cbe44285"
   },
   "source": [
    "* Comparing these sequences based on word counts, X is much more similar to Y than it is to Z"
   ]
  },
  {
   "cell_type": "code",
   "execution_count": 35,
   "id": "d78d04d2",
   "metadata": {
    "id": "d78d04d2",
    "outputId": "3fda47b1-3bb0-4d93-a973-5f0e1a855ca6"
   },
   "outputs": [
    {
     "data": {
      "text/html": [
       "<div>\n",
       "<style scoped>\n",
       "    .dataframe tbody tr th:only-of-type {\n",
       "        vertical-align: middle;\n",
       "    }\n",
       "\n",
       "    .dataframe tbody tr th {\n",
       "        vertical-align: top;\n",
       "    }\n",
       "\n",
       "    .dataframe thead th {\n",
       "        text-align: right;\n",
       "    }\n",
       "</style>\n",
       "<table border=\"1\" class=\"dataframe\">\n",
       "  <thead>\n",
       "    <tr style=\"text-align: right;\">\n",
       "      <th></th>\n",
       "      <th>AA</th>\n",
       "      <th>AC</th>\n",
       "      <th>AG</th>\n",
       "      <th>AT</th>\n",
       "      <th>CA</th>\n",
       "      <th>CC</th>\n",
       "      <th>CG</th>\n",
       "      <th>CT</th>\n",
       "      <th>GA</th>\n",
       "      <th>GC</th>\n",
       "      <th>GG</th>\n",
       "      <th>GT</th>\n",
       "      <th>TA</th>\n",
       "      <th>TC</th>\n",
       "      <th>TG</th>\n",
       "      <th>TT</th>\n",
       "    </tr>\n",
       "  </thead>\n",
       "  <tbody>\n",
       "    <tr>\n",
       "      <th>X</th>\n",
       "      <td>0</td>\n",
       "      <td>0</td>\n",
       "      <td>4</td>\n",
       "      <td>5</td>\n",
       "      <td>0</td>\n",
       "      <td>0</td>\n",
       "      <td>0</td>\n",
       "      <td>0</td>\n",
       "      <td>4</td>\n",
       "      <td>0</td>\n",
       "      <td>0</td>\n",
       "      <td>0</td>\n",
       "      <td>4</td>\n",
       "      <td>0</td>\n",
       "      <td>0</td>\n",
       "      <td>1</td>\n",
       "    </tr>\n",
       "    <tr>\n",
       "      <th>Y</th>\n",
       "      <td>0</td>\n",
       "      <td>0</td>\n",
       "      <td>4</td>\n",
       "      <td>5</td>\n",
       "      <td>0</td>\n",
       "      <td>0</td>\n",
       "      <td>0</td>\n",
       "      <td>0</td>\n",
       "      <td>4</td>\n",
       "      <td>0</td>\n",
       "      <td>0</td>\n",
       "      <td>0</td>\n",
       "      <td>4</td>\n",
       "      <td>0</td>\n",
       "      <td>0</td>\n",
       "      <td>1</td>\n",
       "    </tr>\n",
       "    <tr>\n",
       "      <th>Z</th>\n",
       "      <td>0</td>\n",
       "      <td>0</td>\n",
       "      <td>1</td>\n",
       "      <td>2</td>\n",
       "      <td>0</td>\n",
       "      <td>0</td>\n",
       "      <td>0</td>\n",
       "      <td>0</td>\n",
       "      <td>1</td>\n",
       "      <td>0</td>\n",
       "      <td>0</td>\n",
       "      <td>0</td>\n",
       "      <td>1</td>\n",
       "      <td>0</td>\n",
       "      <td>0</td>\n",
       "      <td>13</td>\n",
       "    </tr>\n",
       "  </tbody>\n",
       "</table>\n",
       "</div>"
      ],
      "text/plain": [
       "   AA  AC  AG  AT  CA  CC  CG  CT  GA  GC  GG  GT  TA  TC  TG  TT\n",
       "X   0   0   4   5   0   0   0   0   4   0   0   0   4   0   0   1\n",
       "Y   0   0   4   5   0   0   0   0   4   0   0   0   4   0   0   1\n",
       "Z   0   0   1   2   0   0   0   0   1   0   0   0   1   0   0  13"
      ]
     },
     "execution_count": 35,
     "metadata": {},
     "output_type": "execute_result"
    }
   ],
   "source": [
    "def get_kmer_counts(X, k):\n",
    "    DNA = [\"A\", \"C\", \"G\", \"T\"]\n",
    "    words_size_k = [\"\".join(prod) for prod in product(*([DNA]*k))]\n",
    "    counts = pd.Series([0 for _ in words_size_k], index = words_size_k)\n",
    "    counts_words_in_x = Counter([X[i:i+k] for i in range(0, len(X)-k+1)])\n",
    "    counts.update(counts_words_in_x)\n",
    "    return counts    \n",
    "\n",
    "\n",
    "counts_dict = {\"X\": get_kmer_counts(X, k=2), \"Y\": get_kmer_counts(Y, k=2), \"Z\": get_kmer_counts(Z, k=2)}\n",
    "pretty_print_counts(counts_dict)"
   ]
  },
  {
   "cell_type": "markdown",
   "id": "ac280486",
   "metadata": {
    "id": "ac280486"
   },
   "source": [
    "* Given an example (vectors) to justify why hashing is not ideal with counts.\n",
    "  * Use any means you think are useful to illustrate your point (e.g.: figure, simulation (yes, please!))\n",
    " \n",
    "* Describe how the random project approach discussed in class can help solve the issue discussed\n",
    "  * Use code to illustrate how random projection works in the following example.\n",
    "    * I.e., provide code to provide an example where `X` and `Y` are assigned to the same bin and `Y` is assigned to a different bin.\n",
    "    * You can choose any vector values as needed \n",
    " \n",
    "```python\n",
    "X = [1,2]\n",
    "Y = [2,2]\n",
    "Z = [5,1]\n",
    "```"
   ]
  },
  {
   "cell_type": "code",
   "execution_count": 36,
   "id": "eb38ffd5",
   "metadata": {
    "id": "eb38ffd5"
   },
   "outputs": [
    {
     "name": "stdout",
     "output_type": "stream",
     "text": [
      "\n",
      "Count Hashed\n",
      "W: 5955922000646507156\n",
      "X: -5501209074414000334\n",
      "Y: -3803320541289006980\n",
      "Z: -5847270639451158862\n",
      "\n",
      "\n",
      "\n"
     ]
    },
    {
     "data": {
      "text/html": [
       "<div>\n",
       "<style scoped>\n",
       "    .dataframe tbody tr th:only-of-type {\n",
       "        vertical-align: middle;\n",
       "    }\n",
       "\n",
       "    .dataframe tbody tr th {\n",
       "        vertical-align: top;\n",
       "    }\n",
       "\n",
       "    .dataframe thead th {\n",
       "        text-align: right;\n",
       "    }\n",
       "</style>\n",
       "<table border=\"1\" class=\"dataframe\">\n",
       "  <thead>\n",
       "    <tr style=\"text-align: right;\">\n",
       "      <th></th>\n",
       "      <th>AA</th>\n",
       "      <th>AC</th>\n",
       "      <th>AG</th>\n",
       "      <th>AT</th>\n",
       "      <th>CA</th>\n",
       "      <th>CC</th>\n",
       "      <th>CG</th>\n",
       "      <th>CT</th>\n",
       "      <th>GA</th>\n",
       "      <th>GC</th>\n",
       "      <th>GG</th>\n",
       "      <th>GT</th>\n",
       "      <th>TA</th>\n",
       "      <th>TC</th>\n",
       "      <th>TG</th>\n",
       "      <th>TT</th>\n",
       "    </tr>\n",
       "  </thead>\n",
       "  <tbody>\n",
       "    <tr>\n",
       "      <th>W</th>\n",
       "      <td>13</td>\n",
       "      <td>0</td>\n",
       "      <td>0</td>\n",
       "      <td>1</td>\n",
       "      <td>0</td>\n",
       "      <td>0</td>\n",
       "      <td>0</td>\n",
       "      <td>0</td>\n",
       "      <td>0</td>\n",
       "      <td>0</td>\n",
       "      <td>0</td>\n",
       "      <td>0</td>\n",
       "      <td>0</td>\n",
       "      <td>0</td>\n",
       "      <td>1</td>\n",
       "      <td>3</td>\n",
       "    </tr>\n",
       "    <tr>\n",
       "      <th>X</th>\n",
       "      <td>0</td>\n",
       "      <td>0</td>\n",
       "      <td>4</td>\n",
       "      <td>5</td>\n",
       "      <td>0</td>\n",
       "      <td>0</td>\n",
       "      <td>0</td>\n",
       "      <td>0</td>\n",
       "      <td>4</td>\n",
       "      <td>0</td>\n",
       "      <td>0</td>\n",
       "      <td>0</td>\n",
       "      <td>4</td>\n",
       "      <td>0</td>\n",
       "      <td>0</td>\n",
       "      <td>1</td>\n",
       "    </tr>\n",
       "    <tr>\n",
       "      <th>Y</th>\n",
       "      <td>0</td>\n",
       "      <td>0</td>\n",
       "      <td>4</td>\n",
       "      <td>5</td>\n",
       "      <td>0</td>\n",
       "      <td>0</td>\n",
       "      <td>0</td>\n",
       "      <td>0</td>\n",
       "      <td>4</td>\n",
       "      <td>0</td>\n",
       "      <td>0</td>\n",
       "      <td>0</td>\n",
       "      <td>5</td>\n",
       "      <td>0</td>\n",
       "      <td>0</td>\n",
       "      <td>0</td>\n",
       "    </tr>\n",
       "    <tr>\n",
       "      <th>Z</th>\n",
       "      <td>0</td>\n",
       "      <td>0</td>\n",
       "      <td>1</td>\n",
       "      <td>2</td>\n",
       "      <td>0</td>\n",
       "      <td>0</td>\n",
       "      <td>0</td>\n",
       "      <td>0</td>\n",
       "      <td>1</td>\n",
       "      <td>0</td>\n",
       "      <td>0</td>\n",
       "      <td>0</td>\n",
       "      <td>1</td>\n",
       "      <td>0</td>\n",
       "      <td>0</td>\n",
       "      <td>13</td>\n",
       "    </tr>\n",
       "  </tbody>\n",
       "</table>\n",
       "</div>"
      ],
      "text/plain": [
       "   AA  AC  AG  AT  CA  CC  CG  CT  GA  GC  GG  GT  TA  TC  TG  TT\n",
       "W  13   0   0   1   0   0   0   0   0   0   0   0   0   0   1   3\n",
       "X   0   0   4   5   0   0   0   0   4   0   0   0   4   0   0   1\n",
       "Y   0   0   4   5   0   0   0   0   4   0   0   0   5   0   0   0\n",
       "Z   0   0   1   2   0   0   0   0   1   0   0   0   1   0   0  13"
      ]
     },
     "execution_count": 36,
     "metadata": {},
     "output_type": "execute_result"
    }
   ],
   "source": [
    "### Write your code here\n",
    "\n",
    "# X = \"GATGAATTGAT\"\n",
    "# Y = \"ATGGATGAGTA\"\n",
    "# Z = \"AGTAGTAGTAG\"\n",
    "W = \"AAAAAAAAAAAAAATTTTG\"\n",
    "X = \"ATAGATAGATAGATAGATT\"\n",
    "Y = \"ATAGATAGATAGATAGATA\"\n",
    "Z = \"ATAGATTTTTTTTTTTTTT\"\n",
    "\n",
    "hashed_counts = {\n",
    "    \"W\": hash(tuple(get_kmer(W, k=2))),\n",
    "    \"X\": hash(tuple(get_kmer_counts(X, k=2))),\n",
    "    \"Y\": hash(tuple(get_kmer_counts(Y, k=2))),\n",
    "    \"Z\": hash(tuple(get_kmer_counts(Z, k=2)))\n",
    "}\n",
    "\n",
    "# hashed_presence = {\n",
    "#     \"W\": hash(tuple(get_kmer(W, k=2))),\n",
    "#     \"X\": hash(tuple(get_kmer(X, k=2))),\n",
    "#     \"Y\": hash(tuple(get_kmer(Y, k=2))),\n",
    "#     \"Z\": hash(tuple(get_kmer(Z, k=2)))\n",
    "# }\n",
    "\n",
    "print(\"\"\"\n",
    "Count Hashed\n",
    "W: {}\n",
    "X: {}\n",
    "Y: {}\n",
    "Z: {}\n",
    "\n",
    "\n",
    "\"\"\".format(hashed_counts[\"W\"], hashed_counts[\"X\"], hashed_counts[\"Y\"], hashed_counts[\"Z\"]))\n",
    "           #hashed_presence[\"W\"], hashed_presence[\"X\"], hashed_presence[\"Y\"], hashed_presence[\"Z\"]))\n",
    "\n",
    "counts_dict = {\"W\": get_kmer_counts(W, k=2), \"X\": get_kmer_counts(X, k=2), \"Y\": get_kmer_counts(Y, k=2), \"Z\": get_kmer_counts(Z, k=2)}\n",
    "#presence_dict = {\"X\": get_kmer(X, k=2), \"Y\": get_kmer(Y, k=2), \"Z\": get_kmer(Z, k=2)}\n",
    "pretty_print_counts(counts_dict) #, pretty_print_counts(presence_dict)"
   ]
  },
  {
   "cell_type": "markdown",
   "id": "b380301f",
   "metadata": {},
   "source": [
    "Analyzing the hashes we can see that X and Z hashes are closer to each other than the X and Y hashes despite X and Y being nearly identical with the last letter being the only difference. This would mean based on the hashes X and Z would be considered more similar to X and Y despite that being obviously not true. Thus, for this very reason hashing by counts is not ideal.  "
   ]
  },
  {
   "cell_type": "code",
   "execution_count": 37,
   "id": "882e9c96",
   "metadata": {
    "id": "882e9c96"
   },
   "outputs": [
    {
     "name": "stdout",
     "output_type": "stream",
     "text": [
      "\n",
      "Random Vector V: [3, 2]\n",
      "Magnitude: 3.605551275463989\n",
      "\n",
      "X: [1, 2]\n",
      "Magnitude of Projection: 1.9414506867883021\n",
      "Ratio: 0.5384615384615385\n",
      "The Projection will occur in bin 1\n",
      "\n",
      "Y: [2, 2]\n",
      "Magnitude of Projection: 2.773500981126146\n",
      "Ratio: 0.7692307692307694\n",
      "The Projection will occur in bin 1\n",
      "\n",
      "Z: [5, 1]\n",
      "Magnitude of Projection: 4.714951667914447\n",
      "Ratio: 1.3076923076923077\n",
      "The Projection will occur in bin 2\n",
      "\n",
      "\n",
      "\n"
     ]
    }
   ],
   "source": [
    "X = [1, 2]\n",
    "Y = [2, 2]\n",
    "Z = [5, 1]\n",
    "\n",
    "V = [3, 2] # Random vector\n",
    "V_mag = (V[0] ** 2 + V[1] ** 2) ** (1/2)\n",
    "\n",
    "X_dot_V = X[0] * V[0] + X[1] * V[1]\n",
    "X_proj = X_dot_V / V_mag\n",
    "X_ratio = X_proj / V_mag\n",
    "X_bin = math.ceil(X_proj / V_mag)\n",
    "\n",
    "Y_dot_V = Y[0] * V[0] + Y[1] * V[1]\n",
    "Y_proj = Y_dot_V / V_mag\n",
    "Y_ratio = Y_proj / V_mag \n",
    "Y_bin = math.ceil(Y_proj / V_mag)\n",
    "\n",
    "Z_dot_V = Z[0] * V[0] + Z[1] * V[1]\n",
    "Z_proj = Z_dot_V / V_mag\n",
    "Z_ratio = Z_proj / V_mag\n",
    "Z_bin = math.ceil(Z_proj / V_mag)\n",
    "\n",
    "\n",
    "\n",
    "print(\"\"\"\n",
    "Random Vector V: {}\n",
    "Magnitude: {}\n",
    "\n",
    "X: {}\n",
    "Magnitude of Projection: {}\n",
    "Ratio: {}\n",
    "The Projection will occur in bin {}\n",
    "\n",
    "Y: {}\n",
    "Magnitude of Projection: {}\n",
    "Ratio: {}\n",
    "The Projection will occur in bin {}\n",
    "\n",
    "Z: {}\n",
    "Magnitude of Projection: {}\n",
    "Ratio: {}\n",
    "The Projection will occur in bin {}\n",
    "\n",
    "\n",
    "\"\"\".format(V, V_mag,\n",
    "           X, X_proj, X_ratio, X_bin,\n",
    "           Y, Y_proj, Y_ratio, Y_bin,\n",
    "           Z, Z_proj, Z_ratio, Z_bin))"
   ]
  },
  {
   "cell_type": "code",
   "execution_count": null,
   "id": "02d4094c",
   "metadata": {},
   "outputs": [],
   "source": []
  },
  {
   "cell_type": "code",
   "execution_count": null,
   "id": "fbde6daa",
   "metadata": {},
   "outputs": [],
   "source": []
  }
 ],
 "metadata": {
  "accelerator": "TPU",
  "colab": {
   "name": "Assignment 1.ipynb",
   "provenance": []
  },
  "kernelspec": {
   "display_name": "Python 3 (ipykernel)",
   "language": "python",
   "name": "python3"
  },
  "language_info": {
   "codemirror_mode": {
    "name": "ipython",
    "version": 3
   },
   "file_extension": ".py",
   "mimetype": "text/x-python",
   "name": "python",
   "nbconvert_exporter": "python",
   "pygments_lexer": "ipython3",
   "version": "3.8.2"
  }
 },
 "nbformat": 4,
 "nbformat_minor": 5
}
